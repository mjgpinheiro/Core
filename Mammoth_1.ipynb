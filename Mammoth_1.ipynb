{
  "nbformat": 4,
  "nbformat_minor": 0,
  "metadata": {
    "colab": {
      "name": "Mammoth_1.ipynb",
      "provenance": [],
      "authorship_tag": "ABX9TyOA8Nd8BlpoLfEWIwO8Gs+G",
      "include_colab_link": true
    },
    "kernelspec": {
      "name": "python3",
      "display_name": "Python 3"
    },
    "language_info": {
      "name": "python"
    }
  },
  "cells": [
    {
      "cell_type": "markdown",
      "metadata": {
        "id": "view-in-github",
        "colab_type": "text"
      },
      "source": [
        "<a href=\"https://colab.research.google.com/github/mjgpinheiro/Core/blob/master/Mammoth_1.ipynb\" target=\"_parent\"><img src=\"https://colab.research.google.com/assets/colab-badge.svg\" alt=\"Open In Colab\"/></a>"
      ]
    },
    {
      "cell_type": "code",
      "metadata": {
        "colab": {
          "base_uri": "https://localhost:8080/"
        },
        "id": "GBwaP2tPI3qo",
        "outputId": "e37aff65-f2b6-40da-e0d2-8f0782fb39f1"
      },
      "source": [
        "import requests\n",
        "import json\n",
        "symbol = \"GOOG\"\n",
        "IEX_CLOUD_API_TOKEN = \"Tpk_a70abc503af44d9f9aff8fad2425a0ac\"\n",
        "api_url = f\"https://sandbox.iexapis.com/stable/stock/{symbol}/quote?token={IEX_CLOUD_API_TOKEN}\"\n",
        "data = requests.get(api_url).json()\n",
        "print(data)"
      ],
      "execution_count": null,
      "outputs": [
        {
          "output_type": "stream",
          "text": [
            "{'symbol': 'GOOG', 'companyName': 'Alphabet Inc - Class C', 'primaryExchange': 'SM E(A) SERLTNAAKLSEON/GGQBDTA CL', 'calculationPrice': 'close', 'open': 2497.7, 'openTime': 1686046336941, 'openSource': 'caflfoii', 'close': 2506.6, 'closeTime': 1687153166971, 'closeSource': 'fialcifo', 'high': 2542.64, 'highTime': 1620071798986, 'highSource': 'dm eruaiel tdyepc5in1 e', 'low': 2435.83, 'lowTime': 1660596423135, 'lowSource': 'ereiepdnm ad5c  yit1elu', 'latestPrice': 2413.77, 'latestSource': 'Close', 'latestTime': 'April 30, 2021', 'latestUpdate': 1645507705454, 'latestVolume': 2048759, 'iexRealtimePrice': 2468.27, 'iexRealtimeSize': 5, 'iexLastUpdated': 1631644605678, 'delayedPrice': 2490.99, 'delayedPriceTime': 1681468462298, 'oddLotDelayedPrice': 2495.23, 'oddLotDelayedPriceTime': 1677619828300, 'extendedPrice': 2496.83, 'extendedChange': 2.66, 'extendedChangePercent': 0.00112, 'extendedPriceTime': 1696828494772, 'previousClose': 2467.92, 'previousVolume': 2041993, 'change': -20.23, 'changePercent': -0.00841, 'volume': 1986116, 'iexMarketPercent': 0.042724080431841054, 'iexVolume': 83909, 'avgTotalVolume': 1449720, 'iexBidPrice': 0, 'iexBidSize': 0, 'iexAskPrice': 0, 'iexAskSize': 0, 'iexOpen': 2502.58, 'iexOpenTime': 1630399235114, 'iexClose': 2484.29, 'iexCloseTime': 1658046539350, 'marketCap': 1647834136423, 'peRatio': None, 'week52High': 2480.57, 'week52Low': 1342, 'ytdChange': 0.3878038852753642, 'lastTradeTime': 1665391132821, 'isUSMarketOpen': False}\n"
          ],
          "name": "stdout"
        }
      ]
    },
    {
      "cell_type": "code",
      "metadata": {
        "colab": {
          "base_uri": "https://localhost:8080/"
        },
        "id": "nwKxApfAC2HJ",
        "outputId": "3032c983-ed3c-4e48-c6d5-a0c1f23ed431"
      },
      "source": [
        "data"
      ],
      "execution_count": null,
      "outputs": [
        {
          "output_type": "execute_result",
          "data": {
            "text/plain": [
              "{'avgTotalVolume': 1449720,\n",
              " 'calculationPrice': 'close',\n",
              " 'change': -20.23,\n",
              " 'changePercent': -0.00841,\n",
              " 'close': 2506.6,\n",
              " 'closeSource': 'fialcifo',\n",
              " 'closeTime': 1687153166971,\n",
              " 'companyName': 'Alphabet Inc - Class C',\n",
              " 'delayedPrice': 2490.99,\n",
              " 'delayedPriceTime': 1681468462298,\n",
              " 'extendedChange': 2.66,\n",
              " 'extendedChangePercent': 0.00112,\n",
              " 'extendedPrice': 2496.83,\n",
              " 'extendedPriceTime': 1696828494772,\n",
              " 'high': 2542.64,\n",
              " 'highSource': 'dm eruaiel tdyepc5in1 e',\n",
              " 'highTime': 1620071798986,\n",
              " 'iexAskPrice': 0,\n",
              " 'iexAskSize': 0,\n",
              " 'iexBidPrice': 0,\n",
              " 'iexBidSize': 0,\n",
              " 'iexClose': 2484.29,\n",
              " 'iexCloseTime': 1658046539350,\n",
              " 'iexLastUpdated': 1631644605678,\n",
              " 'iexMarketPercent': 0.042724080431841054,\n",
              " 'iexOpen': 2502.58,\n",
              " 'iexOpenTime': 1630399235114,\n",
              " 'iexRealtimePrice': 2468.27,\n",
              " 'iexRealtimeSize': 5,\n",
              " 'iexVolume': 83909,\n",
              " 'isUSMarketOpen': False,\n",
              " 'lastTradeTime': 1665391132821,\n",
              " 'latestPrice': 2413.77,\n",
              " 'latestSource': 'Close',\n",
              " 'latestTime': 'April 30, 2021',\n",
              " 'latestUpdate': 1645507705454,\n",
              " 'latestVolume': 2048759,\n",
              " 'low': 2435.83,\n",
              " 'lowSource': 'ereiepdnm ad5c  yit1elu',\n",
              " 'lowTime': 1660596423135,\n",
              " 'marketCap': 1647834136423,\n",
              " 'oddLotDelayedPrice': 2495.23,\n",
              " 'oddLotDelayedPriceTime': 1677619828300,\n",
              " 'open': 2497.7,\n",
              " 'openSource': 'caflfoii',\n",
              " 'openTime': 1686046336941,\n",
              " 'peRatio': None,\n",
              " 'previousClose': 2467.92,\n",
              " 'previousVolume': 2041993,\n",
              " 'primaryExchange': 'SM E(A) SERLTNAAKLSEON/GGQBDTA CL',\n",
              " 'symbol': 'GOOG',\n",
              " 'volume': 1986116,\n",
              " 'week52High': 2480.57,\n",
              " 'week52Low': 1342,\n",
              " 'ytdChange': 0.3878038852753642}"
            ]
          },
          "metadata": {
            "tags": []
          },
          "execution_count": 6
        }
      ]
    },
    {
      "cell_type": "code",
      "metadata": {
        "id": "npYZ9frkEYzU"
      },
      "source": [
        ""
      ],
      "execution_count": null,
      "outputs": []
    },
    {
      "cell_type": "code",
      "metadata": {
        "colab": {
          "base_uri": "https://localhost:8080/"
        },
        "id": "JC1WVYmmDbio",
        "outputId": "f19e94b2-67ea-40ec-c51a-1ee31acef047"
      },
      "source": [
        "import pandas\n",
        "page = pandas.read_html(\"https://en.wikipedia.org/wiki/List_of_S%26P_500_companies\")\n",
        "print(page)\n",
        "stocks_table = page[0]"
      ],
      "execution_count": null,
      "outputs": [
        {
          "output_type": "stream",
          "text": [
            "[    Symbol             Security  ...      CIK      Founded\n",
            "0      MMM           3M Company  ...    66740         1902\n",
            "1      ABT  Abbott Laboratories  ...     1800         1888\n",
            "2     ABBV          AbbVie Inc.  ...  1551152  2013 (1888)\n",
            "3     ABMD              Abiomed  ...   815094         1981\n",
            "4      ACN            Accenture  ...  1467373         1989\n",
            "..     ...                  ...  ...      ...          ...\n",
            "500    YUM      Yum! Brands Inc  ...  1041061         1997\n",
            "501   ZBRA   Zebra Technologies  ...   877212         1969\n",
            "502    ZBH        Zimmer Biomet  ...  1136869         1927\n",
            "503   ZION        Zions Bancorp  ...   109380         1873\n",
            "504    ZTS               Zoetis  ...  1555280         1952\n",
            "\n",
            "[505 rows x 9 columns],                  Date  ...                                             Reason\n",
            "                 Date  ...                                             Reason\n",
            "0      April 20, 2021  ...  Siemens Healthineers AG acquired Varian Medica...\n",
            "1      March 22, 2021  ...                   Market capitalization change.[7]\n",
            "2      March 22, 2021  ...                   Market capitalization change.[7]\n",
            "3      March 22, 2021  ...                   Market capitalization change.[7]\n",
            "4      March 22, 2021  ...                   Market capitalization change.[7]\n",
            "..                ...  ...                                                ...\n",
            "265  December 5, 2000  ...                                Market Cap changes.\n",
            "266  December 5, 2000  ...                                Market Cap changes.\n",
            "267  December 5, 2000  ...                                Market Cap changes.\n",
            "268     July 27, 2000  ...                            Market Cap change.[211]\n",
            "269  December 7, 1999  ...                            Market Cap change.[212]\n",
            "\n",
            "[270 rows x 6 columns]]\n"
          ],
          "name": "stdout"
        }
      ]
    },
    {
      "cell_type": "code",
      "metadata": {
        "colab": {
          "base_uri": "https://localhost:8080/"
        },
        "id": "4ibXq0e8Eftg",
        "outputId": "d04dc16b-a678-40d6-ebb5-5e564a6d55d3"
      },
      "source": [
        "stocks_table = page[0]\n",
        "print(stocks_table)"
      ],
      "execution_count": null,
      "outputs": [
        {
          "output_type": "stream",
          "text": [
            "    Symbol             Security  ...      CIK      Founded\n",
            "0      MMM           3M Company  ...    66740         1902\n",
            "1      ABT  Abbott Laboratories  ...     1800         1888\n",
            "2     ABBV          AbbVie Inc.  ...  1551152  2013 (1888)\n",
            "3     ABMD              Abiomed  ...   815094         1981\n",
            "4      ACN            Accenture  ...  1467373         1989\n",
            "..     ...                  ...  ...      ...          ...\n",
            "500    YUM      Yum! Brands Inc  ...  1041061         1997\n",
            "501   ZBRA   Zebra Technologies  ...   877212         1969\n",
            "502    ZBH        Zimmer Biomet  ...  1136869         1927\n",
            "503   ZION        Zions Bancorp  ...   109380         1873\n",
            "504    ZTS               Zoetis  ...  1555280         1952\n",
            "\n",
            "[505 rows x 9 columns]\n"
          ],
          "name": "stdout"
        }
      ]
    },
    {
      "cell_type": "code",
      "metadata": {
        "colab": {
          "base_uri": "https://localhost:8080/"
        },
        "id": "QidaJq-OE0NG",
        "outputId": "7cc05be8-bc2c-4879-e545-74bb40f175c3"
      },
      "source": [
        "stocks_table.info()"
      ],
      "execution_count": null,
      "outputs": [
        {
          "output_type": "stream",
          "text": [
            "<class 'pandas.core.frame.DataFrame'>\n",
            "RangeIndex: 505 entries, 0 to 504\n",
            "Data columns (total 9 columns):\n",
            " #   Column                 Non-Null Count  Dtype \n",
            "---  ------                 --------------  ----- \n",
            " 0   Symbol                 505 non-null    object\n",
            " 1   Security               505 non-null    object\n",
            " 2   SEC filings            505 non-null    object\n",
            " 3   GICS Sector            505 non-null    object\n",
            " 4   GICS Sub-Industry      505 non-null    object\n",
            " 5   Headquarters Location  505 non-null    object\n",
            " 6   Date first added       454 non-null    object\n",
            " 7   CIK                    505 non-null    int64 \n",
            " 8   Founded                505 non-null    object\n",
            "dtypes: int64(1), object(8)\n",
            "memory usage: 35.6+ KB\n"
          ],
          "name": "stdout"
        }
      ]
    },
    {
      "cell_type": "code",
      "metadata": {
        "id": "ycqKLsUuFtwk"
      },
      "source": [
        "stocks_columns = [\"Ticker\", \"Price\", \"Market_Capitalization\", \"Shares to Buy\"]\n",
        "stocks_dataframe = pandas.DataFrame(columns = stocks_columns)\n",
        "for symbol "
      ],
      "execution_count": null,
      "outputs": []
    }
  ]
}